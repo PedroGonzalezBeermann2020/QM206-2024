{
  "nbformat": 4,
  "nbformat_minor": 0,
  "metadata": {
    "colab": {
      "provenance": [],
      "authorship_tag": "ABX9TyOfvfDfI/B5Cfi0gqZIpzQA",
      "include_colab_link": true
    },
    "kernelspec": {
      "name": "python3",
      "display_name": "Python 3"
    },
    "language_info": {
      "name": "python"
    }
  },
  "cells": [
    {
      "cell_type": "markdown",
      "metadata": {
        "id": "view-in-github",
        "colab_type": "text"
      },
      "source": [
        "<a href=\"https://colab.research.google.com/github/PedroGonzalezBeermann2020/QM206-2024/blob/main/QM206_Clase01.ipynb\" target=\"_parent\"><img src=\"https://colab.research.google.com/assets/colab-badge.svg\" alt=\"Open In Colab\"/></a>"
      ]
    },
    {
      "cell_type": "markdown",
      "source": [
        "**QM 206:Fundamentos de Python**\n",
        "22/08/2024"
      ],
      "metadata": {
        "id": "JwjrsXKnIDGq"
      }
    },
    {
      "cell_type": "code",
      "execution_count": 2,
      "metadata": {
        "colab": {
          "base_uri": "https://localhost:8080/"
        },
        "id": "0eFFiD2dD45s",
        "outputId": "799b5228-daf0-414e-812c-717857a32c61"
      },
      "outputs": [
        {
          "output_type": "stream",
          "name": "stdout",
          "text": [
            "Hola muchachos, bienvenidos al curso de QM206\n"
          ]
        }
      ],
      "source": [
        "print(\"Hola muchachos, bienvenidos al curso de QM206\")"
      ]
    },
    {
      "cell_type": "markdown",
      "source": [
        "Variables"
      ],
      "metadata": {
        "id": "JhsV-U7EGTd_"
      }
    },
    {
      "cell_type": "code",
      "source": [
        "x=5.98\n",
        "y=7.23\n",
        "z=x+y\n",
        "print(z)"
      ],
      "metadata": {
        "colab": {
          "base_uri": "https://localhost:8080/"
        },
        "id": "yE1gzdE4GIIO",
        "outputId": "e6da4ae3-c2d7-4d95-fcec-59f9008fcebd"
      },
      "execution_count": 4,
      "outputs": [
        {
          "output_type": "stream",
          "name": "stdout",
          "text": [
            "13.21\n"
          ]
        }
      ]
    },
    {
      "cell_type": "code",
      "source": [
        "nombre=\"Laura\"\n",
        "apellido=\"Pitti\"\n",
        "print(nombre+\" \"+apellido)\n",
        "print(nombre*25)"
      ],
      "metadata": {
        "colab": {
          "base_uri": "https://localhost:8080/"
        },
        "id": "spsCTxEgHotP",
        "outputId": "74d9ccd6-8fe8-4396-d21f-1e48ac8545b9"
      },
      "execution_count": 9,
      "outputs": [
        {
          "output_type": "stream",
          "name": "stdout",
          "text": [
            "Laura Pitti\n",
            "LauraLauraLauraLauraLauraLauraLauraLauraLauraLauraLauraLauraLauraLauraLauraLauraLauraLauraLauraLauraLauraLauraLauraLauraLaura\n"
          ]
        }
      ]
    },
    {
      "cell_type": "code",
      "source": [
        "a=True\n",
        "b=False\n",
        "laura_cabello=\"negro\"\n",
        "print(laura_cabello)\n",
        "print(laura_cabello==\"negro\")\n",
        "print(laura_cabello==\"rubio\")"
      ],
      "metadata": {
        "colab": {
          "base_uri": "https://localhost:8080/"
        },
        "id": "gETGjsDUIz7i",
        "outputId": "97e2dfa6-40df-4979-f5d7-33630a7fc877"
      },
      "execution_count": 18,
      "outputs": [
        {
          "output_type": "stream",
          "name": "stdout",
          "text": [
            "negro\n",
            "True\n",
            "False\n"
          ]
        }
      ]
    },
    {
      "cell_type": "code",
      "source": [
        "if laura_cabello==\"negro\":\n",
        "    print(\"laura tiene cabello negro\")\n",
        "    print(\"Laura es estudiante de QM206\")\n",
        "else:\n",
        "    print(\"laura no tiene cabello negro\")"
      ],
      "metadata": {
        "colab": {
          "base_uri": "https://localhost:8080/"
        },
        "id": "huN9Ay6UJ3AF",
        "outputId": "a5c07703-f295-4083-d521-53d20900673f"
      },
      "execution_count": 23,
      "outputs": [
        {
          "output_type": "stream",
          "name": "stdout",
          "text": [
            "laura tiene cabello negro\n",
            "Laura es estudiante de QM206\n"
          ]
        }
      ]
    },
    {
      "cell_type": "code",
      "source": [
        "nota=78\n",
        "if nota>=90:\n",
        "    print(\"A\")\n",
        "elif nota>=80:\n",
        "    print(\"B\")\n",
        "elif nota>=70:\n",
        "    print(\"C\")\n",
        "elif nota>=60:\n",
        "    print(\"D\")\n",
        "else:\n",
        "    print(\"F\")"
      ],
      "metadata": {
        "colab": {
          "base_uri": "https://localhost:8080/"
        },
        "id": "4BR4kogxLMW-",
        "outputId": "75cf77f0-61bf-45a1-b5e9-6043568fa861"
      },
      "execution_count": 26,
      "outputs": [
        {
          "output_type": "stream",
          "name": "stdout",
          "text": [
            "C\n"
          ]
        }
      ]
    },
    {
      "cell_type": "markdown",
      "source": [
        "K=(°F − 32) × 5/9 + 273.15"
      ],
      "metadata": {
        "id": "pGs_tBAWL_qL"
      }
    },
    {
      "cell_type": "code",
      "source": [
        "F=100\n",
        "K=(F-32)*5/9+273.15\n",
        "print(\"K=\",K)\n",
        "C=(F-32)*5/9\n",
        "print(\"°C=\",C)"
      ],
      "metadata": {
        "colab": {
          "base_uri": "https://localhost:8080/"
        },
        "id": "5nUM9B8rL1LZ",
        "outputId": "1b2a800d-6fba-4428-f6b2-8ed2331083e2"
      },
      "execution_count": 32,
      "outputs": [
        {
          "output_type": "stream",
          "name": "stdout",
          "text": [
            "K= 310.92777777777775\n",
            "°C= 37.77777777777778\n"
          ]
        }
      ]
    },
    {
      "cell_type": "code",
      "source": [
        "estudiantes=[\"Shantal\",\"Eimys\",\"Carlos\",\"Cristian\",\"Laura\",\"Keisy\"]\n",
        "print(estudiantes)\n",
        "print(estudiantes[2])\n",
        "print(estudiantes[3])\n",
        "n=len(estudiantes)\n",
        "print(n)"
      ],
      "metadata": {
        "colab": {
          "base_uri": "https://localhost:8080/"
        },
        "id": "_ifNmY5xNjoT",
        "outputId": "6cbbf7c3-a814-4d72-9583-c4496e0fbcbe"
      },
      "execution_count": 43,
      "outputs": [
        {
          "output_type": "stream",
          "name": "stdout",
          "text": [
            "['Shantal', 'Eimys', 'Carlos', 'Cristian', 'Laura', 'Keisy']\n",
            "Carlos\n",
            "Cristian\n",
            "6\n"
          ]
        }
      ]
    },
    {
      "cell_type": "code",
      "source": [
        "print(estudiantes[2:5])\n",
        "print(estudiantes[2:])\n",
        "print(estudiantes[:4])"
      ],
      "metadata": {
        "colab": {
          "base_uri": "https://localhost:8080/"
        },
        "id": "NA3hYfwqPB0C",
        "outputId": "c242646a-8462-495e-9237-bfb5543a60d0"
      },
      "execution_count": 46,
      "outputs": [
        {
          "output_type": "stream",
          "name": "stdout",
          "text": [
            "['Carlos', 'Cristian', 'Laura']\n",
            "['Carlos', 'Cristian', 'Laura', 'Keisy']\n",
            "['Shantal', 'Eimys', 'Carlos', 'Cristian']\n"
          ]
        }
      ]
    },
    {
      "cell_type": "markdown",
      "source": [],
      "metadata": {
        "id": "M7oMH6_pCC2f"
      }
    },
    {
      "cell_type": "code",
      "source": [
        "for estudiante in estudiantes:\n",
        "    print(estudiante)\n",
        "    if estudiante==\"Shantal\":\n",
        "        print(\"Shantal es estudiante de QM206\")\n",
        "    if estudiante==\"Laura\":\n",
        "        print(\"ohh Laura tiene el cabello negro\")"
      ],
      "metadata": {
        "colab": {
          "base_uri": "https://localhost:8080/"
        },
        "id": "hjUvoA6NQZjE",
        "outputId": "f020152a-5dad-457e-9b25-d15e541f5c17"
      },
      "execution_count": 48,
      "outputs": [
        {
          "output_type": "stream",
          "name": "stdout",
          "text": [
            "Shantal\n",
            "Shantal es estudiante de QM206\n",
            "Eimys\n",
            "Carlos\n",
            "Cristian\n",
            "Laura\n",
            "ohh Laura tiene el cabello negro\n",
            "Keisy\n"
          ]
        }
      ]
    }
  ]
}