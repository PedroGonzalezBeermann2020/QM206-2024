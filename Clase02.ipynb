{
  "nbformat": 4,
  "nbformat_minor": 0,
  "metadata": {
    "colab": {
      "provenance": [],
      "authorship_tag": "ABX9TyPNVad2V6ig/6pzL7bGOrVD",
      "include_colab_link": true
    },
    "kernelspec": {
      "name": "python3",
      "display_name": "Python 3"
    },
    "language_info": {
      "name": "python"
    }
  },
  "cells": [
    {
      "cell_type": "markdown",
      "metadata": {
        "id": "view-in-github",
        "colab_type": "text"
      },
      "source": [
        "<a href=\"https://colab.research.google.com/github/PedroGonzalezBeermann2020/QM206-2024/blob/main/Clase02.ipynb\" target=\"_parent\"><img src=\"https://colab.research.google.com/assets/colab-badge.svg\" alt=\"Open In Colab\"/></a>"
      ]
    },
    {
      "cell_type": "code",
      "execution_count": 4,
      "metadata": {
        "colab": {
          "base_uri": "https://localhost:8080/"
        },
        "id": "SVQTDmAhJ7YQ",
        "outputId": "0f15417c-c930-47a2-9efe-ecb4540df7c4"
      },
      "outputs": [
        {
          "output_type": "execute_result",
          "data": {
            "text/plain": [
              "2"
            ]
          },
          "metadata": {},
          "execution_count": 4
        }
      ],
      "source": [
        "18 % 4"
      ]
    },
    {
      "cell_type": "code",
      "source": [
        "print(3**3)\n",
        "print(3**(-5))\n",
        "print(3E-5)"
      ],
      "metadata": {
        "colab": {
          "base_uri": "https://localhost:8080/"
        },
        "id": "Bvgu4OPxN3fV",
        "outputId": "e6984fbd-20f4-4018-b037-f5ceb5509cb4"
      },
      "execution_count": 7,
      "outputs": [
        {
          "output_type": "stream",
          "name": "stdout",
          "text": [
            "27\n",
            "0.00411522633744856\n",
            "3e-05\n"
          ]
        }
      ]
    },
    {
      "cell_type": "code",
      "source": [
        "x=5\n",
        "print(x)\n",
        "x+=3\n",
        "print(x)\n",
        "x-=4\n",
        "print(x)\n"
      ],
      "metadata": {
        "colab": {
          "base_uri": "https://localhost:8080/"
        },
        "id": "WA5RfBZDO5f8",
        "outputId": "3f38cc3f-4703-4422-af78-adf898a98ed9"
      },
      "execution_count": 10,
      "outputs": [
        {
          "output_type": "stream",
          "name": "stdout",
          "text": [
            "5\n",
            "8\n",
            "4\n"
          ]
        }
      ]
    },
    {
      "cell_type": "code",
      "source": [
        "x=4\n",
        "x*=6\n",
        "print(x)\n",
        "x=4\n",
        "x=x*6\n",
        "print(x)"
      ],
      "metadata": {
        "colab": {
          "base_uri": "https://localhost:8080/"
        },
        "id": "-YkESGwiPYW9",
        "outputId": "f5d43e24-d781-42b4-9398-fa080c672d1a"
      },
      "execution_count": 12,
      "outputs": [
        {
          "output_type": "stream",
          "name": "stdout",
          "text": [
            "24\n",
            "24\n"
          ]
        }
      ]
    },
    {
      "cell_type": "code",
      "source": [
        "x=7\n",
        "x%=5\n",
        "print(x)"
      ],
      "metadata": {
        "colab": {
          "base_uri": "https://localhost:8080/"
        },
        "id": "542v4efbPwxa",
        "outputId": "f5bd6c47-dd8d-4cdd-d131-bd824ab30c72"
      },
      "execution_count": 13,
      "outputs": [
        {
          "output_type": "stream",
          "name": "stdout",
          "text": [
            "2\n"
          ]
        }
      ]
    },
    {
      "cell_type": "code",
      "source": [
        "x=9\n",
        "x//=2\n",
        "print(x)"
      ],
      "metadata": {
        "colab": {
          "base_uri": "https://localhost:8080/"
        },
        "id": "PtcSvrHnQUgN",
        "outputId": "98def05b-a785-434a-8b0f-b84bb08cacb9"
      },
      "execution_count": 14,
      "outputs": [
        {
          "output_type": "stream",
          "name": "stdout",
          "text": [
            "4\n"
          ]
        }
      ]
    },
    {
      "cell_type": "code",
      "source": [
        "x=5\n",
        "x**=3\n",
        "print(x)"
      ],
      "metadata": {
        "colab": {
          "base_uri": "https://localhost:8080/"
        },
        "id": "YEgHRWVPQgnc",
        "outputId": "21dc0815-3ee7-43f6-c494-e44cde57b521"
      },
      "execution_count": 15,
      "outputs": [
        {
          "output_type": "stream",
          "name": "stdout",
          "text": [
            "125\n"
          ]
        }
      ]
    },
    {
      "cell_type": "code",
      "source": [
        "x=5\n",
        "a=x**3\n",
        "print(a)\n",
        "print(x)"
      ],
      "metadata": {
        "colab": {
          "base_uri": "https://localhost:8080/"
        },
        "id": "7nGqU4iAQubL",
        "outputId": "700ef5a8-60d5-453d-dc29-22e7a94379b7"
      },
      "execution_count": 17,
      "outputs": [
        {
          "output_type": "stream",
          "name": "stdout",
          "text": [
            "125\n",
            "5\n"
          ]
        }
      ]
    },
    {
      "cell_type": "code",
      "source": [
        "thislist = [\"apple\", \"banana\", \"cherry\"]\n",
        "print(len(thislist))"
      ],
      "metadata": {
        "colab": {
          "base_uri": "https://localhost:8080/"
        },
        "id": "g2M8UpD5RgNM",
        "outputId": "cd57df15-9787-4614-f34e-d0e185bb5641"
      },
      "execution_count": 18,
      "outputs": [
        {
          "output_type": "stream",
          "name": "stdout",
          "text": [
            "3\n"
          ]
        }
      ]
    },
    {
      "cell_type": "code",
      "source": [
        "est1=[\"Juan Perez\",22,1.70,\"Negro\",\"Química\",\"Unachi\"]\n",
        "print(est1[3])\n",
        "print(type(est1))\n"
      ],
      "metadata": {
        "colab": {
          "base_uri": "https://localhost:8080/"
        },
        "id": "7QvyQyN0R2AN",
        "outputId": "317f8a8a-b50c-4075-c7cf-7f4c45c1316b"
      },
      "execution_count": 21,
      "outputs": [
        {
          "output_type": "stream",
          "name": "stdout",
          "text": [
            "Negro\n",
            "<class 'list'>\n"
          ]
        }
      ]
    },
    {
      "cell_type": "code",
      "source": [
        "datos=(\"apple\", \"banana\", \"cherry\")\n",
        "print(type(datos))\n",
        "thislist = list(datos)\n",
        "print(type(thislist))"
      ],
      "metadata": {
        "colab": {
          "base_uri": "https://localhost:8080/"
        },
        "id": "0GBnRJdSSuZK",
        "outputId": "bebe9672-ec96-44d0-e795-f01586f36cd3"
      },
      "execution_count": 23,
      "outputs": [
        {
          "output_type": "stream",
          "name": "stdout",
          "text": [
            "<class 'tuple'>\n",
            "<class 'list'>\n"
          ]
        }
      ]
    },
    {
      "cell_type": "code",
      "source": [
        "estudiantes=[\"Juan\",\"Pedro\",\"Jose\"]\n",
        "print(estudiantes)\n",
        "estudiantes.append(\"María\")\n",
        "print(estudiantes)\n",
        "estudiantes.insert(2,\"Luis\")\n",
        "print(estudiantes)\n",
        "profesores=[\"Viviana\",\"Dayli\",\"Dixon\",\"Juan\"]\n",
        "estudiantes.extend(profesores)\n",
        "print(estudiantes)\n",
        "estudiantes.remove(\"Dixon\")\n",
        "print(estudiantes)\n",
        "estudiantes.remove(\"Juan\")\n",
        "print(estudiantes)"
      ],
      "metadata": {
        "colab": {
          "base_uri": "https://localhost:8080/"
        },
        "id": "rk8FlQhlTYrY",
        "outputId": "4547f11b-4af7-4e80-e389-4fd9c45f03fc"
      },
      "execution_count": 31,
      "outputs": [
        {
          "output_type": "stream",
          "name": "stdout",
          "text": [
            "['Juan', 'Pedro', 'Jose']\n",
            "['Juan', 'Pedro', 'Jose', 'María']\n",
            "['Juan', 'Pedro', 'Luis', 'Jose', 'María']\n",
            "['Juan', 'Pedro', 'Luis', 'Jose', 'María', 'Viviana', 'Dayli', 'Dixon', 'Juan']\n",
            "['Juan', 'Pedro', 'Luis', 'Jose', 'María', 'Viviana', 'Dayli', 'Juan']\n",
            "['Pedro', 'Luis', 'Jose', 'María', 'Viviana', 'Dayli', 'Juan']\n"
          ]
        }
      ]
    },
    {
      "cell_type": "code",
      "source": [
        "thislist = [\"apple\", \"banana\", \"cherry\"]\n",
        "thislist.pop(0)\n",
        "print(thislist)"
      ],
      "metadata": {
        "colab": {
          "base_uri": "https://localhost:8080/"
        },
        "id": "42_lMC-8WccW",
        "outputId": "a5714813-106d-483b-8b37-95ce45359a06"
      },
      "execution_count": 34,
      "outputs": [
        {
          "output_type": "stream",
          "name": "stdout",
          "text": [
            "['banana', 'cherry']\n"
          ]
        }
      ]
    }
  ]
}