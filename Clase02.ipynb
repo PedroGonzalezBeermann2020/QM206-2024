{
  "nbformat": 4,
  "nbformat_minor": 0,
  "metadata": {
    "colab": {
      "provenance": [],
      "authorship_tag": "ABX9TyPYJS/LgUvDp6SS55QGl0qX",
      "include_colab_link": true
    },
    "kernelspec": {
      "name": "python3",
      "display_name": "Python 3"
    },
    "language_info": {
      "name": "python"
    }
  },
  "cells": [
    {
      "cell_type": "markdown",
      "metadata": {
        "id": "view-in-github",
        "colab_type": "text"
      },
      "source": [
        "<a href=\"https://colab.research.google.com/github/PedroGonzalezBeermann2020/QM206-2024/blob/main/Clase02.ipynb\" target=\"_parent\"><img src=\"https://colab.research.google.com/assets/colab-badge.svg\" alt=\"Open In Colab\"/></a>"
      ]
    },
    {
      "cell_type": "code",
      "execution_count": 4,
      "metadata": {
        "colab": {
          "base_uri": "https://localhost:8080/"
        },
        "id": "SVQTDmAhJ7YQ",
        "outputId": "0f15417c-c930-47a2-9efe-ecb4540df7c4"
      },
      "outputs": [
        {
          "output_type": "execute_result",
          "data": {
            "text/plain": [
              "2"
            ]
          },
          "metadata": {},
          "execution_count": 4
        }
      ],
      "source": [
        "18 % 4"
      ]
    },
    {
      "cell_type": "code",
      "source": [
        "print(3**3)\n",
        "print(3**(-5))\n",
        "print(3E-5)"
      ],
      "metadata": {
        "colab": {
          "base_uri": "https://localhost:8080/"
        },
        "id": "Bvgu4OPxN3fV",
        "outputId": "e6984fbd-20f4-4018-b037-f5ceb5509cb4"
      },
      "execution_count": 7,
      "outputs": [
        {
          "output_type": "stream",
          "name": "stdout",
          "text": [
            "27\n",
            "0.00411522633744856\n",
            "3e-05\n"
          ]
        }
      ]
    },
    {
      "cell_type": "code",
      "source": [
        "x=5\n",
        "print(x)\n",
        "x+=3\n",
        "print(x)\n",
        "x-=4\n",
        "print(x)\n"
      ],
      "metadata": {
        "colab": {
          "base_uri": "https://localhost:8080/"
        },
        "id": "WA5RfBZDO5f8",
        "outputId": "3f38cc3f-4703-4422-af78-adf898a98ed9"
      },
      "execution_count": 10,
      "outputs": [
        {
          "output_type": "stream",
          "name": "stdout",
          "text": [
            "5\n",
            "8\n",
            "4\n"
          ]
        }
      ]
    },
    {
      "cell_type": "code",
      "source": [
        "x=4\n",
        "x*=6\n",
        "print(x)\n",
        "x=4\n",
        "x=x*6\n",
        "print(x)"
      ],
      "metadata": {
        "colab": {
          "base_uri": "https://localhost:8080/"
        },
        "id": "-YkESGwiPYW9",
        "outputId": "f5d43e24-d781-42b4-9398-fa080c672d1a"
      },
      "execution_count": 12,
      "outputs": [
        {
          "output_type": "stream",
          "name": "stdout",
          "text": [
            "24\n",
            "24\n"
          ]
        }
      ]
    },
    {
      "cell_type": "code",
      "source": [
        "x=7\n",
        "x%=5\n",
        "print(x)"
      ],
      "metadata": {
        "colab": {
          "base_uri": "https://localhost:8080/"
        },
        "id": "542v4efbPwxa",
        "outputId": "f5bd6c47-dd8d-4cdd-d131-bd824ab30c72"
      },
      "execution_count": 13,
      "outputs": [
        {
          "output_type": "stream",
          "name": "stdout",
          "text": [
            "2\n"
          ]
        }
      ]
    },
    {
      "cell_type": "code",
      "source": [
        "x=9\n",
        "x//=2\n",
        "print(x)"
      ],
      "metadata": {
        "colab": {
          "base_uri": "https://localhost:8080/"
        },
        "id": "PtcSvrHnQUgN",
        "outputId": "98def05b-a785-434a-8b0f-b84bb08cacb9"
      },
      "execution_count": 14,
      "outputs": [
        {
          "output_type": "stream",
          "name": "stdout",
          "text": [
            "4\n"
          ]
        }
      ]
    },
    {
      "cell_type": "code",
      "source": [
        "x=5\n",
        "x**=3\n",
        "print(x)"
      ],
      "metadata": {
        "colab": {
          "base_uri": "https://localhost:8080/"
        },
        "id": "YEgHRWVPQgnc",
        "outputId": "21dc0815-3ee7-43f6-c494-e44cde57b521"
      },
      "execution_count": 15,
      "outputs": [
        {
          "output_type": "stream",
          "name": "stdout",
          "text": [
            "125\n"
          ]
        }
      ]
    },
    {
      "cell_type": "code",
      "source": [
        "x=5\n",
        "a=x**3\n",
        "print(a)\n",
        "print(x)"
      ],
      "metadata": {
        "colab": {
          "base_uri": "https://localhost:8080/"
        },
        "id": "7nGqU4iAQubL",
        "outputId": "700ef5a8-60d5-453d-dc29-22e7a94379b7"
      },
      "execution_count": 17,
      "outputs": [
        {
          "output_type": "stream",
          "name": "stdout",
          "text": [
            "125\n",
            "5\n"
          ]
        }
      ]
    },
    {
      "cell_type": "code",
      "source": [
        "thislist = [\"apple\", \"banana\", \"cherry\"]\n",
        "print(len(thislist))"
      ],
      "metadata": {
        "colab": {
          "base_uri": "https://localhost:8080/"
        },
        "id": "g2M8UpD5RgNM",
        "outputId": "cd57df15-9787-4614-f34e-d0e185bb5641"
      },
      "execution_count": 18,
      "outputs": [
        {
          "output_type": "stream",
          "name": "stdout",
          "text": [
            "3\n"
          ]
        }
      ]
    },
    {
      "cell_type": "code",
      "source": [
        "est1=[\"Juan Perez\",22,1.70,\"Negro\",\"Química\",\"Unachi\"]\n",
        "print(est1[3])\n",
        "print(type(est1))\n"
      ],
      "metadata": {
        "colab": {
          "base_uri": "https://localhost:8080/"
        },
        "id": "7QvyQyN0R2AN",
        "outputId": "317f8a8a-b50c-4075-c7cf-7f4c45c1316b"
      },
      "execution_count": 21,
      "outputs": [
        {
          "output_type": "stream",
          "name": "stdout",
          "text": [
            "Negro\n",
            "<class 'list'>\n"
          ]
        }
      ]
    },
    {
      "cell_type": "code",
      "source": [
        "datos=(\"apple\", \"banana\", \"cherry\")\n",
        "print(type(datos))\n",
        "thislist = list(datos)\n",
        "print(type(thislist))"
      ],
      "metadata": {
        "colab": {
          "base_uri": "https://localhost:8080/"
        },
        "id": "0GBnRJdSSuZK",
        "outputId": "bebe9672-ec96-44d0-e795-f01586f36cd3"
      },
      "execution_count": 23,
      "outputs": [
        {
          "output_type": "stream",
          "name": "stdout",
          "text": [
            "<class 'tuple'>\n",
            "<class 'list'>\n"
          ]
        }
      ]
    },
    {
      "cell_type": "code",
      "source": [
        "estudiantes=[\"Juan\",\"Pedro\",\"Jose\"]\n",
        "print(estudiantes)\n",
        "estudiantes.append(\"María\")\n",
        "print(estudiantes)\n",
        "estudiantes.insert(2,\"Luis\")\n",
        "print(estudiantes)\n",
        "profesores=[\"Viviana\",\"Dayli\",\"Dixon\",\"Juan\"]\n",
        "estudiantes.extend(profesores)\n",
        "print(estudiantes)\n",
        "estudiantes.remove(\"Dixon\")\n",
        "print(estudiantes)\n",
        "estudiantes.remove(\"Juan\")\n",
        "print(estudiantes)"
      ],
      "metadata": {
        "colab": {
          "base_uri": "https://localhost:8080/"
        },
        "id": "rk8FlQhlTYrY",
        "outputId": "4547f11b-4af7-4e80-e389-4fd9c45f03fc"
      },
      "execution_count": 31,
      "outputs": [
        {
          "output_type": "stream",
          "name": "stdout",
          "text": [
            "['Juan', 'Pedro', 'Jose']\n",
            "['Juan', 'Pedro', 'Jose', 'María']\n",
            "['Juan', 'Pedro', 'Luis', 'Jose', 'María']\n",
            "['Juan', 'Pedro', 'Luis', 'Jose', 'María', 'Viviana', 'Dayli', 'Dixon', 'Juan']\n",
            "['Juan', 'Pedro', 'Luis', 'Jose', 'María', 'Viviana', 'Dayli', 'Juan']\n",
            "['Pedro', 'Luis', 'Jose', 'María', 'Viviana', 'Dayli', 'Juan']\n"
          ]
        }
      ]
    },
    {
      "cell_type": "code",
      "source": [
        "thislist = [\"apple\", \"banana\", \"cherry\"]\n",
        "print(thislist)\n",
        "for x in thislist:\n",
        "  print(\"I like\",x)\n",
        "  print(\"Voy a comprar 2 lbs de \",x)\n",
        "print(\"se ha terminado la lista de las frutas\")"
      ],
      "metadata": {
        "colab": {
          "base_uri": "https://localhost:8080/"
        },
        "id": "42_lMC-8WccW",
        "outputId": "6f50602a-a32e-4397-caa2-8ea04883e140"
      },
      "execution_count": 7,
      "outputs": [
        {
          "output_type": "stream",
          "name": "stdout",
          "text": [
            "['apple', 'banana', 'cherry']\n",
            "I like apple\n",
            "Voy a comprar 2 lbs de  apple\n",
            "I like banana\n",
            "Voy a comprar 2 lbs de  banana\n",
            "I like cherry\n",
            "Voy a comprar 2 lbs de  cherry\n",
            "se ha terminado la lista de las frutas\n"
          ]
        }
      ]
    },
    {
      "cell_type": "code",
      "source": [
        "xs=[5,3,7,6,4]\n",
        "v=2\n",
        "for a in xs:\n",
        "  b=a*5\n",
        "  c=a**2\n",
        "  print(b,c)\n",
        "  v+=3\n",
        "  print(v)\n",
        "print(\"v=\",v)"
      ],
      "metadata": {
        "colab": {
          "base_uri": "https://localhost:8080/"
        },
        "id": "HYSDmOVIOypP",
        "outputId": "cea82ee5-71df-4190-9542-676c443606c1"
      },
      "execution_count": 13,
      "outputs": [
        {
          "output_type": "stream",
          "name": "stdout",
          "text": [
            "25 25\n",
            "5\n",
            "15 9\n",
            "8\n",
            "35 49\n",
            "11\n",
            "30 36\n",
            "14\n",
            "20 16\n",
            "17\n",
            "v= 17\n"
          ]
        }
      ]
    },
    {
      "cell_type": "code",
      "source": [
        "notas=[3.7]\n",
        "suma=0\n",
        "n=len(notas)\n",
        "for x in notas:\n",
        "  suma+=x\n",
        "print(\"suma=\",suma)\n",
        "if n!=0:\n",
        "  promedio=suma/n\n",
        "  print(\"promedio=\",promedio)\n",
        "else:\n",
        "  print(\"no hay notas\")"
      ],
      "metadata": {
        "colab": {
          "base_uri": "https://localhost:8080/"
        },
        "id": "xNBSFRcOQb9W",
        "outputId": "a5ac6413-f571-4a9d-ac4e-6832b5d2eff4"
      },
      "execution_count": 21,
      "outputs": [
        {
          "output_type": "stream",
          "name": "stdout",
          "text": [
            "suma= 3.7\n",
            "promedio= 3.7\n"
          ]
        }
      ]
    },
    {
      "cell_type": "markdown",
      "source": [
        "$ x=\\frac{-b + \\sqrt{b*b-4*a*c}}{2a} $"
      ],
      "metadata": {
        "id": "9Bh24B2uSvzz"
      }
    },
    {
      "cell_type": "markdown",
      "source": [
        "$ ax^2+bx+c=0 $"
      ],
      "metadata": {
        "id": "ft_7PirHUE_g"
      }
    },
    {
      "cell_type": "code",
      "source": [
        "a=3\n",
        "b=6\n",
        "c=-1\n",
        "if 4*a*c<b**2:\n",
        "  x1=(-b+(b**2-4*a*c)**0.5)/(2*a)\n",
        "  x2=(-b-(b**2-4*a*c)**0.5)/(2*a)\n",
        "  print(\"x1=\",x1)\n",
        "  print(\"x2=\",x2)\n",
        "else:\n",
        "  print(\"no hay raices reales\")"
      ],
      "metadata": {
        "colab": {
          "base_uri": "https://localhost:8080/"
        },
        "id": "kGJXjNjfSqAX",
        "outputId": "9c01cfc8-c153-4b6f-ae85-b686d4eed0c4"
      },
      "execution_count": 26,
      "outputs": [
        {
          "output_type": "stream",
          "name": "stdout",
          "text": [
            "x1= 0.15470053837925146\n",
            "x2= -2.1547005383792515\n"
          ]
        }
      ]
    },
    {
      "cell_type": "code",
      "source": [
        "thislist = [\"orange\", \"mango\", \"kiwi\", \"pineapple\", \"banana\"]\n",
        "thislist.sort(reverse = True)\n",
        "print(thislist)"
      ],
      "metadata": {
        "colab": {
          "base_uri": "https://localhost:8080/"
        },
        "id": "PefDjPiuWN83",
        "outputId": "feeb4833-8ae9-4178-a3b8-001583ab1086"
      },
      "execution_count": 30,
      "outputs": [
        {
          "output_type": "stream",
          "name": "stdout",
          "text": [
            "['pineapple', 'orange', 'mango', 'kiwi', 'banana']\n"
          ]
        }
      ]
    },
    {
      "cell_type": "code",
      "source": [
        "thislist = [\"apple\", \"banana\", \"cherry\"]\n",
        "mylist = thislist.copy()\n",
        "mylist[0]=\"orange\"\n",
        "print(thislist)\n",
        "print(mylist)"
      ],
      "metadata": {
        "colab": {
          "base_uri": "https://localhost:8080/"
        },
        "id": "0pC09AoTW00y",
        "outputId": "4d6aa084-695d-49f1-aa22-3121033d7c5e"
      },
      "execution_count": 33,
      "outputs": [
        {
          "output_type": "stream",
          "name": "stdout",
          "text": [
            "['apple', 'banana', 'cherry']\n",
            "['orange', 'banana', 'cherry']\n"
          ]
        }
      ]
    },
    {
      "cell_type": "code",
      "source": [
        "thislist = [\"apple\", \"banana\", \"cherry\"]\n",
        "mylist = thislist\n",
        "mylist[0]=\"orange\"\n",
        "print(thislist)\n",
        "print(mylist)"
      ],
      "metadata": {
        "colab": {
          "base_uri": "https://localhost:8080/"
        },
        "id": "ipCuwedcXVpI",
        "outputId": "aa0e7988-8405-4980-fe03-8dbf9d411181"
      },
      "execution_count": 34,
      "outputs": [
        {
          "output_type": "stream",
          "name": "stdout",
          "text": [
            "['orange', 'banana', 'cherry']\n",
            "['orange', 'banana', 'cherry']\n"
          ]
        }
      ]
    },
    {
      "cell_type": "code",
      "source": [
        "list1 = [\"a\", \"b\", \"c\"]\n",
        "list2 = [1, 2, 3]\n",
        "\n",
        "list3 = list1 + list2+list1\n",
        "print(list3)"
      ],
      "metadata": {
        "colab": {
          "base_uri": "https://localhost:8080/"
        },
        "id": "CH9eRtJFX6gq",
        "outputId": "82a10b3e-d3da-4ae9-a432-88a120a9d7f4"
      },
      "execution_count": 36,
      "outputs": [
        {
          "output_type": "stream",
          "name": "stdout",
          "text": [
            "['a', 'b', 'c', 1, 2, 3, 'a', 'b', 'c']\n"
          ]
        }
      ]
    },
    {
      "cell_type": "code",
      "source": [
        "fruits = ['cherry','apple','mango', 'banana', 'cherry']\n",
        "\n",
        "x = fruits.count(\"cherry\")\n",
        "print(x)\n",
        "n=fruits.index(\"cherry\")\n",
        "print(n)"
      ],
      "metadata": {
        "colab": {
          "base_uri": "https://localhost:8080/"
        },
        "id": "_gDiwF8BYa0w",
        "outputId": "9d74f733-60d6-4635-d189-065e14364433"
      },
      "execution_count": 46,
      "outputs": [
        {
          "output_type": "stream",
          "name": "stdout",
          "text": [
            "2\n",
            "0\n"
          ]
        }
      ]
    },
    {
      "cell_type": "code",
      "source": [
        "import numpy as np\n",
        "\n",
        "x=8.7\n",
        "s=np.sqrt(x)\n",
        "print(s)\n",
        "v=np.exp(x)\n",
        "print(v)\n"
      ],
      "metadata": {
        "colab": {
          "base_uri": "https://localhost:8080/"
        },
        "id": "WAZsSPsZZsPu",
        "outputId": "930bc5b7-174d-4aab-f50a-08b89e090e7c"
      },
      "execution_count": 48,
      "outputs": [
        {
          "output_type": "stream",
          "name": "stdout",
          "text": [
            "2.949576240750525\n",
            "6002.912217261018\n"
          ]
        }
      ]
    },
    {
      "cell_type": "code",
      "source": [
        "x=np.array([0.0,3.4,6.7,8.9,2.6,-3.5])\n",
        "for a in x:\n",
        "  print(a,np.exp(a))"
      ],
      "metadata": {
        "colab": {
          "base_uri": "https://localhost:8080/"
        },
        "id": "ixDoMJ4JbEP2",
        "outputId": "ec9c0dd1-ed74-481e-bf8c-21f538c10ee4"
      },
      "execution_count": 53,
      "outputs": [
        {
          "output_type": "stream",
          "name": "stdout",
          "text": [
            "0.0 1.0\n",
            "3.4 29.96410004739701\n",
            "6.7 812.4058251675433\n",
            "8.9 7331.973539155995\n",
            "2.6 13.463738035001692\n",
            "-3.5 0.0301973834223185\n"
          ]
        }
      ]
    },
    {
      "cell_type": "code",
      "source": [
        "x=np.zeros(10)\n",
        "print(x)\n",
        "x[3]=5\n",
        "print(x)"
      ],
      "metadata": {
        "colab": {
          "base_uri": "https://localhost:8080/"
        },
        "id": "xouZDZGccC1X",
        "outputId": "4aa6d815-4736-4dc0-9e4c-8c15d3d6b805"
      },
      "execution_count": 57,
      "outputs": [
        {
          "output_type": "stream",
          "name": "stdout",
          "text": [
            "[0. 0. 0. 0. 0. 0. 0. 0. 0. 0.]\n",
            "[0. 0. 0. 5. 0. 0. 0. 0. 0. 0.]\n"
          ]
        }
      ]
    },
    {
      "cell_type": "code",
      "source": [
        "v=np.ones(200)\n",
        "v=v+3\n",
        "print(v*v)"
      ],
      "metadata": {
        "colab": {
          "base_uri": "https://localhost:8080/"
        },
        "id": "p-oEd7RDck4X",
        "outputId": "073ccfee-b1a6-4f6c-dc95-95a6e8b776db"
      },
      "execution_count": 64,
      "outputs": [
        {
          "output_type": "stream",
          "name": "stdout",
          "text": [
            "[16. 16. 16. 16. 16. 16. 16. 16. 16. 16. 16. 16. 16. 16. 16. 16. 16. 16.\n",
            " 16. 16. 16. 16. 16. 16. 16. 16. 16. 16. 16. 16. 16. 16. 16. 16. 16. 16.\n",
            " 16. 16. 16. 16. 16. 16. 16. 16. 16. 16. 16. 16. 16. 16. 16. 16. 16. 16.\n",
            " 16. 16. 16. 16. 16. 16. 16. 16. 16. 16. 16. 16. 16. 16. 16. 16. 16. 16.\n",
            " 16. 16. 16. 16. 16. 16. 16. 16. 16. 16. 16. 16. 16. 16. 16. 16. 16. 16.\n",
            " 16. 16. 16. 16. 16. 16. 16. 16. 16. 16. 16. 16. 16. 16. 16. 16. 16. 16.\n",
            " 16. 16. 16. 16. 16. 16. 16. 16. 16. 16. 16. 16. 16. 16. 16. 16. 16. 16.\n",
            " 16. 16. 16. 16. 16. 16. 16. 16. 16. 16. 16. 16. 16. 16. 16. 16. 16. 16.\n",
            " 16. 16. 16. 16. 16. 16. 16. 16. 16. 16. 16. 16. 16. 16. 16. 16. 16. 16.\n",
            " 16. 16. 16. 16. 16. 16. 16. 16. 16. 16. 16. 16. 16. 16. 16. 16. 16. 16.\n",
            " 16. 16. 16. 16. 16. 16. 16. 16. 16. 16. 16. 16. 16. 16. 16. 16. 16. 16.\n",
            " 16. 16.]\n"
          ]
        }
      ]
    },
    {
      "cell_type": "code",
      "source": [
        "x=np.linspace(1, 5,5)\n",
        "y=3.0*np.exp(-x/5)\n",
        "\n",
        "\n",
        "print(np.sum(x))\n",
        "print(np.mean(x))\n",
        "print(np.log(x))\n",
        "print(np.log10(x))"
      ],
      "metadata": {
        "colab": {
          "base_uri": "https://localhost:8080/"
        },
        "id": "7gPLQd1JdoOt",
        "outputId": "477cb97a-7b14-4e50-ae21-f4e54db4fce4"
      },
      "execution_count": 79,
      "outputs": [
        {
          "output_type": "stream",
          "name": "stdout",
          "text": [
            "15.0\n",
            "3.0\n",
            "[0.         0.69314718 1.09861229 1.38629436 1.60943791]\n",
            "[0.         0.30103    0.47712125 0.60205999 0.69897   ]\n"
          ]
        }
      ]
    },
    {
      "cell_type": "code",
      "source": [
        "cH=np.array([1.5E-4,6.7E-7,8.9E-2])\n",
        "pH=-np.log10(cH)\n",
        "print(pH)"
      ],
      "metadata": {
        "colab": {
          "base_uri": "https://localhost:8080/"
        },
        "id": "QWmtBpIjfmRj",
        "outputId": "674bf816-d8f6-4b8f-e688-c65591926b42"
      },
      "execution_count": 80,
      "outputs": [
        {
          "output_type": "stream",
          "name": "stdout",
          "text": [
            "[3.82390874 6.1739252  1.05060999]\n"
          ]
        }
      ]
    }
  ]
}