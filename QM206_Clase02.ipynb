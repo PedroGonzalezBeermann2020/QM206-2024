{
  "nbformat": 4,
  "nbformat_minor": 0,
  "metadata": {
    "colab": {
      "provenance": [],
      "authorship_tag": "ABX9TyMzuV5Xy7oXl5VCtLQlJBhN",
      "include_colab_link": true
    },
    "kernelspec": {
      "name": "python3",
      "display_name": "Python 3"
    },
    "language_info": {
      "name": "python"
    }
  },
  "cells": [
    {
      "cell_type": "markdown",
      "metadata": {
        "id": "view-in-github",
        "colab_type": "text"
      },
      "source": [
        "<a href=\"https://colab.research.google.com/github/PedroGonzalezBeermann2020/QM206-2024/blob/main/QM206_Clase02.ipynb\" target=\"_parent\"><img src=\"https://colab.research.google.com/assets/colab-badge.svg\" alt=\"Open In Colab\"/></a>"
      ]
    },
    {
      "cell_type": "markdown",
      "source": [
        "**QM 206:Fundamentos de Python**\n",
        "22/08/2024"
      ],
      "metadata": {
        "id": "JwjrsXKnIDGq"
      }
    },
    {
      "cell_type": "code",
      "execution_count": 2,
      "metadata": {
        "colab": {
          "base_uri": "https://localhost:8080/"
        },
        "id": "0eFFiD2dD45s",
        "outputId": "799b5228-daf0-414e-812c-717857a32c61"
      },
      "outputs": [
        {
          "output_type": "stream",
          "name": "stdout",
          "text": [
            "Hola muchachos, bienvenidos al curso de QM206\n"
          ]
        }
      ],
      "source": [
        "print(\"Hola muchachos, bienvenidos al curso de QM206\")"
      ]
    },
    {
      "cell_type": "markdown",
      "source": [
        "Variables"
      ],
      "metadata": {
        "id": "JhsV-U7EGTd_"
      }
    },
    {
      "cell_type": "code",
      "source": [
        "x=5.98\n",
        "y=7.23\n",
        "z=x+y\n",
        "print(z)"
      ],
      "metadata": {
        "colab": {
          "base_uri": "https://localhost:8080/"
        },
        "id": "yE1gzdE4GIIO",
        "outputId": "e6da4ae3-c2d7-4d95-fcec-59f9008fcebd"
      },
      "execution_count": 4,
      "outputs": [
        {
          "output_type": "stream",
          "name": "stdout",
          "text": [
            "13.21\n"
          ]
        }
      ]
    },
    {
      "cell_type": "code",
      "source": [
        "nombre=\"Laura\"\n",
        "apellido=\"Pitti\"\n",
        "print(nombre+\" \"+apellido)\n",
        "print(nombre*25)"
      ],
      "metadata": {
        "colab": {
          "base_uri": "https://localhost:8080/"
        },
        "id": "spsCTxEgHotP",
        "outputId": "74d9ccd6-8fe8-4396-d21f-1e48ac8545b9"
      },
      "execution_count": 9,
      "outputs": [
        {
          "output_type": "stream",
          "name": "stdout",
          "text": [
            "Laura Pitti\n",
            "LauraLauraLauraLauraLauraLauraLauraLauraLauraLauraLauraLauraLauraLauraLauraLauraLauraLauraLauraLauraLauraLauraLauraLauraLaura\n"
          ]
        }
      ]
    },
    {
      "cell_type": "code",
      "source": [
        "a=True\n",
        "b=False\n",
        "laura_cabello=\"negro\"\n",
        "print(laura_cabello)\n",
        "print(laura_cabello==\"negro\")\n",
        "print(laura_cabello==\"rubio\")"
      ],
      "metadata": {
        "colab": {
          "base_uri": "https://localhost:8080/"
        },
        "id": "gETGjsDUIz7i",
        "outputId": "97e2dfa6-40df-4979-f5d7-33630a7fc877"
      },
      "execution_count": 18,
      "outputs": [
        {
          "output_type": "stream",
          "name": "stdout",
          "text": [
            "negro\n",
            "True\n",
            "False\n"
          ]
        }
      ]
    },
    {
      "cell_type": "code",
      "source": [
        "if laura_cabello==\"negro\":\n",
        "    print(\"laura tiene cabello negro\")\n",
        "    print(\"Laura es estudiante de QM206\")\n",
        "else:\n",
        "    print(\"laura no tiene cabello negro\")"
      ],
      "metadata": {
        "colab": {
          "base_uri": "https://localhost:8080/"
        },
        "id": "huN9Ay6UJ3AF",
        "outputId": "a5c07703-f295-4083-d521-53d20900673f"
      },
      "execution_count": 23,
      "outputs": [
        {
          "output_type": "stream",
          "name": "stdout",
          "text": [
            "laura tiene cabello negro\n",
            "Laura es estudiante de QM206\n"
          ]
        }
      ]
    },
    {
      "cell_type": "code",
      "source": [
        "nota=78\n",
        "if nota>=90:\n",
        "    print(\"A\")\n",
        "elif nota>=80:\n",
        "    print(\"B\")\n",
        "elif nota>=70:\n",
        "    print(\"C\")\n",
        "elif nota>=60:\n",
        "    print(\"D\")\n",
        "else:\n",
        "    print(\"F\")"
      ],
      "metadata": {
        "colab": {
          "base_uri": "https://localhost:8080/"
        },
        "id": "4BR4kogxLMW-",
        "outputId": "75cf77f0-61bf-45a1-b5e9-6043568fa861"
      },
      "execution_count": 26,
      "outputs": [
        {
          "output_type": "stream",
          "name": "stdout",
          "text": [
            "C\n"
          ]
        }
      ]
    },
    {
      "cell_type": "markdown",
      "source": [
        "K=(°F − 32) × 5/9 + 273.15"
      ],
      "metadata": {
        "id": "pGs_tBAWL_qL"
      }
    },
    {
      "cell_type": "code",
      "source": [
        "F=100\n",
        "K=(F-32)*5/9+273.15\n",
        "print(\"K=\",K)\n",
        "C=(F-32)*5/9\n",
        "print(\"°C=\",C)"
      ],
      "metadata": {
        "colab": {
          "base_uri": "https://localhost:8080/"
        },
        "id": "5nUM9B8rL1LZ",
        "outputId": "1b2a800d-6fba-4428-f6b2-8ed2331083e2"
      },
      "execution_count": 32,
      "outputs": [
        {
          "output_type": "stream",
          "name": "stdout",
          "text": [
            "K= 310.92777777777775\n",
            "°C= 37.77777777777778\n"
          ]
        }
      ]
    },
    {
      "cell_type": "code",
      "source": [
        "estudiantes=[\"Shantal\",\"Eimys\",\"Carlos\",\"Cristian\",\"Laura\",\"Keisy\"]\n",
        "print(estudiantes)\n",
        "print(estudiantes[2])\n",
        "print(estudiantes[3])\n",
        "n=len(estudiantes)\n",
        "print(n)"
      ],
      "metadata": {
        "colab": {
          "base_uri": "https://localhost:8080/"
        },
        "id": "_ifNmY5xNjoT",
        "outputId": "c34b8854-5c32-4316-94b1-afe822284279"
      },
      "execution_count": 8,
      "outputs": [
        {
          "output_type": "stream",
          "name": "stdout",
          "text": [
            "['Shantal', 'Eimys', 'Carlos', 'Cristian', 'Laura', 'Keisy']\n",
            "Carlos\n",
            "Cristian\n",
            "6\n"
          ]
        }
      ]
    },
    {
      "cell_type": "code",
      "source": [
        "print(estudiantes[2:5])\n",
        "print(estudiantes[2:])\n",
        "print(estudiantes[:4])"
      ],
      "metadata": {
        "colab": {
          "base_uri": "https://localhost:8080/"
        },
        "id": "NA3hYfwqPB0C",
        "outputId": "c242646a-8462-495e-9237-bfb5543a60d0"
      },
      "execution_count": 46,
      "outputs": [
        {
          "output_type": "stream",
          "name": "stdout",
          "text": [
            "['Carlos', 'Cristian', 'Laura']\n",
            "['Carlos', 'Cristian', 'Laura', 'Keisy']\n",
            "['Shantal', 'Eimys', 'Carlos', 'Cristian']\n"
          ]
        }
      ]
    },
    {
      "cell_type": "markdown",
      "source": [],
      "metadata": {
        "id": "M7oMH6_pCC2f"
      }
    },
    {
      "cell_type": "code",
      "source": [
        "for estudiante in estudiantes:\n",
        "    print(estudiante)\n",
        "    if estudiante==\"Shantal\":\n",
        "        print(\"Shantal es estudiante de QM206\")\n",
        "    if estudiante==\"Laura\":\n",
        "        print(\"ohh Laura tiene el cabello negro\")"
      ],
      "metadata": {
        "colab": {
          "base_uri": "https://localhost:8080/"
        },
        "id": "hjUvoA6NQZjE",
        "outputId": "f020152a-5dad-457e-9b25-d15e541f5c17"
      },
      "execution_count": 48,
      "outputs": [
        {
          "output_type": "stream",
          "name": "stdout",
          "text": [
            "Shantal\n",
            "Shantal es estudiante de QM206\n",
            "Eimys\n",
            "Carlos\n",
            "Cristian\n",
            "Laura\n",
            "ohh Laura tiene el cabello negro\n",
            "Keisy\n"
          ]
        }
      ]
    },
    {
      "cell_type": "code",
      "source": [
        "estudiantes=[\"Shantal\",\"Eimys\",\"Carlos\",\"Cristian\",\"Laura\",\"Keisy\"]\n",
        "print(estudiantes)\n",
        "estudiantes[2]=\"Juan\"\n",
        "print(estudiantes)"
      ],
      "metadata": {
        "colab": {
          "base_uri": "https://localhost:8080/"
        },
        "id": "E8_lAmAAJrt7",
        "outputId": "e09946ff-0cdb-4803-c7be-8137e5b9d7ae"
      },
      "execution_count": 13,
      "outputs": [
        {
          "output_type": "stream",
          "name": "stdout",
          "text": [
            "['Shantal', 'Eimys', 'Carlos', 'Cristian', 'Laura', 'Keisy']\n",
            "['Shantal', 'Eimys', 'Juan', 'Cristian', 'Laura', 'Keisy']\n"
          ]
        }
      ]
    },
    {
      "cell_type": "code",
      "source": [
        "v=[5,7,8,2,5,3,9,1,7,8,5]\n",
        "print(v)\n",
        "print(len(v))\n",
        "v[4]=13\n",
        "print(v*5)"
      ],
      "metadata": {
        "colab": {
          "base_uri": "https://localhost:8080/"
        },
        "id": "X9JFCWjVLuTu",
        "outputId": "d8fc9e14-febe-46a9-84a6-19fd178d22c2"
      },
      "execution_count": 18,
      "outputs": [
        {
          "output_type": "stream",
          "name": "stdout",
          "text": [
            "[5, 7, 8, 2, 5, 3, 9, 1, 7, 8, 5]\n",
            "11\n",
            "[5, 7, 8, 2, 13, 3, 9, 1, 7, 8, 5, 5, 7, 8, 2, 13, 3, 9, 1, 7, 8, 5, 5, 7, 8, 2, 13, 3, 9, 1, 7, 8, 5, 5, 7, 8, 2, 13, 3, 9, 1, 7, 8, 5, 5, 7, 8, 2, 13, 3, 9, 1, 7, 8, 5]\n"
          ]
        }
      ]
    },
    {
      "cell_type": "markdown",
      "source": [
        "TUPLAS\n"
      ],
      "metadata": {
        "id": "OKDaJMVRM7gH"
      }
    },
    {
      "cell_type": "code",
      "source": [
        "p=(5,3,7,2,3,8,9)\n",
        "print(p)\n",
        "print(p[1])\n",
        "print(p[2:5])"
      ],
      "metadata": {
        "colab": {
          "base_uri": "https://localhost:8080/"
        },
        "id": "6_vJW1LnM9si",
        "outputId": "f4e67053-b318-4128-8fda-34ddf3ac1d92"
      },
      "execution_count": 22,
      "outputs": [
        {
          "output_type": "stream",
          "name": "stdout",
          "text": [
            "(5, 3, 7, 2, 3, 8, 9)\n",
            "3\n",
            "(7, 2, 3)\n"
          ]
        }
      ]
    },
    {
      "cell_type": "code",
      "source": [],
      "metadata": {
        "id": "zgU_MYdpOIi5"
      },
      "execution_count": null,
      "outputs": []
    },
    {
      "cell_type": "markdown",
      "source": [
        "Diccionarios"
      ],
      "metadata": {
        "id": "7NbgV9bVOKVa"
      }
    },
    {
      "cell_type": "code",
      "source": [
        "dict={\"nombre\":\"Laura\",\"cedula\":\"4-890-2456\",\"edad\":20,\"estatura\":1.68}\n",
        "print(dict)\n",
        "print(dict[\"nombre\"])\n",
        "print(dict[\"edad\"])\n",
        "print(dict[\"estatura\"])"
      ],
      "metadata": {
        "colab": {
          "base_uri": "https://localhost:8080/"
        },
        "id": "5m__Yw04OMf1",
        "outputId": "494e3b87-b82e-4ede-8026-8f002894a84a"
      },
      "execution_count": 26,
      "outputs": [
        {
          "output_type": "stream",
          "name": "stdout",
          "text": [
            "{'nombre': 'Laura', 'cedula': '4-890-2456', 'edad': 20, 'estatura': 1.68}\n",
            "Laura\n",
            "20\n",
            "1.68\n"
          ]
        }
      ]
    },
    {
      "cell_type": "markdown",
      "source": [],
      "metadata": {
        "id": "TVW5d_P8TAgw"
      }
    },
    {
      "cell_type": "code",
      "source": [
        "elementos=[]\n",
        "elem={\"simbolo\":\"H\",\"NA\":1,\"masa\":1.008}\n",
        "elementos.append(elem)\n",
        "elem={\"simbolo\":\"O\",\"NA\":8,\"masa\":16.00}\n",
        "elementos.append(elem)\n",
        "elem={\"simbolo\":\"Na\",\"NA\":11,\"masa\":22.99}\n",
        "elementos.append(elem)\n",
        "\n",
        "print(elementos)\n"
      ],
      "metadata": {
        "colab": {
          "base_uri": "https://localhost:8080/"
        },
        "id": "CkaHEitzTdS5",
        "outputId": "85fdb9a4-50f7-466e-8cf9-4da3a6e1732c"
      },
      "execution_count": 32,
      "outputs": [
        {
          "output_type": "stream",
          "name": "stdout",
          "text": [
            "[{'simbolo': 'H', 'NA': 1, 'masa': 1.008}, {'simbolo': 'O', 'NA': 8, 'masa': 16.0}, {'simbolo': 'Na', 'NA': 11, 'masa': 22.99}]\n"
          ]
        }
      ]
    },
    {
      "cell_type": "code",
      "source": [
        "estudiantes=[]\n",
        "est={\"nombre\":\"Juan Perez\",\"cedula\":\"4-578-2637\",\"estatura\":1.70}\n",
        "estudiantes.append(est)"
      ],
      "metadata": {
        "id": "nICrHcapVjqw"
      },
      "execution_count": null,
      "outputs": []
    }
  ]
}