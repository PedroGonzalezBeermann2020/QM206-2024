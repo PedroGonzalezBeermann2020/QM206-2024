{
  "nbformat": 4,
  "nbformat_minor": 0,
  "metadata": {
    "colab": {
      "provenance": [],
      "authorship_tag": "ABX9TyMDpa7U2hcMVwCp2U768AEz",
      "include_colab_link": true
    },
    "kernelspec": {
      "name": "python3",
      "display_name": "Python 3"
    },
    "language_info": {
      "name": "python"
    }
  },
  "cells": [
    {
      "cell_type": "markdown",
      "metadata": {
        "id": "view-in-github",
        "colab_type": "text"
      },
      "source": [
        "<a href=\"https://colab.research.google.com/github/PedroGonzalezBeermann2020/QM206-2024/blob/main/Clase03.ipynb\" target=\"_parent\"><img src=\"https://colab.research.google.com/assets/colab-badge.svg\" alt=\"Open In Colab\"/></a>"
      ]
    },
    {
      "cell_type": "code",
      "execution_count": null,
      "metadata": {
        "id": "2dBXhPp5HUNz"
      },
      "outputs": [],
      "source": [
        "import numpy as np"
      ]
    },
    {
      "cell_type": "code",
      "source": [
        "x=np.array([3,5,2,7,6,5,9])\n",
        "x"
      ],
      "metadata": {
        "colab": {
          "base_uri": "https://localhost:8080/"
        },
        "id": "ZZsgj6upI4Gk",
        "outputId": "25f6c461-b967-4437-ce5f-dc7d4b766752"
      },
      "execution_count": null,
      "outputs": [
        {
          "output_type": "execute_result",
          "data": {
            "text/plain": [
              "array([3, 5, 2, 7, 6, 5, 9])"
            ]
          },
          "metadata": {},
          "execution_count": 2
        }
      ]
    },
    {
      "cell_type": "code",
      "source": [
        "z=np.array([[1,2,3],[4,5,6],[7,8,9]])\n",
        "z[2,:]"
      ],
      "metadata": {
        "colab": {
          "base_uri": "https://localhost:8080/"
        },
        "id": "D3f3zIePJeqB",
        "outputId": "29b5d96e-29f3-461c-9e18-3a3a1913a201"
      },
      "execution_count": null,
      "outputs": [
        {
          "output_type": "execute_result",
          "data": {
            "text/plain": [
              "array([7, 8, 9])"
            ]
          },
          "metadata": {},
          "execution_count": 16
        }
      ]
    },
    {
      "cell_type": "code",
      "source": [
        "print(x)\n",
        "print(x*x)\n",
        "print(np.sum(x))\n",
        "print(np.sum(x*x))"
      ],
      "metadata": {
        "colab": {
          "base_uri": "https://localhost:8080/"
        },
        "id": "fUJryE23LbZR",
        "outputId": "2821d59b-80d4-4ef6-dd1f-84ae9e01b1fa"
      },
      "execution_count": null,
      "outputs": [
        {
          "output_type": "stream",
          "name": "stdout",
          "text": [
            "[3 5 2 7 6 5 9]\n",
            "[ 9 25  4 49 36 25 81]\n",
            "37\n",
            "229\n"
          ]
        }
      ]
    },
    {
      "cell_type": "code",
      "source": [
        "x=np.array([3.4,6.5,8.3,2.4,7.8])\n",
        "n=len(x)\n",
        "prom=np.sum(x)/n\n",
        "print(\"promedio=\",prom)\n",
        "s2=np.sum((x-prom)**2)/(n-1)\n",
        "print(\"varianza=\",s2)\n",
        "des=np.sqrt(s2)\n",
        "print(\"desviacion estandar=\",des)"
      ],
      "metadata": {
        "colab": {
          "base_uri": "https://localhost:8080/"
        },
        "id": "gOm-4FocMNaW",
        "outputId": "d9947570-1489-4cfd-fb32-79411a3e3d41"
      },
      "execution_count": null,
      "outputs": [
        {
          "output_type": "stream",
          "name": "stdout",
          "text": [
            "promedio= 5.680000000000001\n",
            "varianza= 6.997000000000002\n",
            "desviacion estandar= 2.6451843035977665\n"
          ]
        }
      ]
    },
    {
      "cell_type": "code",
      "source": [
        "x=np.array([3.4,6.5,8.3,2.4,7.8])\n",
        "y=np.array([4.6,3.2,7.8,9.2,3.5])\n",
        "sumxy=np.sum(x*y)\n",
        "sumxy2=np.sum(x*y*y)\n",
        "print(\"sumXY=\",sumxy)\n",
        "print(\"sumXY2=\",sumxy2)"
      ],
      "metadata": {
        "colab": {
          "base_uri": "https://localhost:8080/"
        },
        "id": "Uoytbdi8OJJl",
        "outputId": "375e752a-5c54-41b7-b252-d947098adfd8"
      },
      "execution_count": null,
      "outputs": [
        {
          "output_type": "stream",
          "name": "stdout",
          "text": [
            "sumXY= 150.56\n",
            "sumXY2= 942.1619999999999\n"
          ]
        }
      ]
    },
    {
      "cell_type": "code",
      "source": [
        "m=np.sum(x*x)/np.sum(x*y)\n",
        "print(\"m=\",m)"
      ],
      "metadata": {
        "id": "8rzBtBSuQBjP",
        "outputId": "0aa872ae-210d-44a5-e088-a4f0164fbd50",
        "colab": {
          "base_uri": "https://localhost:8080/"
        }
      },
      "execution_count": null,
      "outputs": [
        {
          "output_type": "stream",
          "name": "stdout",
          "text": [
            "m= 1.25730605738576\n"
          ]
        }
      ]
    },
    {
      "cell_type": "code",
      "source": [
        "x=np.array([1,2,3,4,5,6])\n",
        "print(np.cumsum(x))"
      ],
      "metadata": {
        "colab": {
          "base_uri": "https://localhost:8080/"
        },
        "id": "YXJwxBoRRZag",
        "outputId": "68ad7c02-44c6-481f-f104-8955c1ec69fa"
      },
      "execution_count": null,
      "outputs": [
        {
          "output_type": "stream",
          "name": "stdout",
          "text": [
            "[ 1  3  6 10 15 21]\n"
          ]
        }
      ]
    },
    {
      "cell_type": "code",
      "source": [
        "print(np.cumprod(x))"
      ],
      "metadata": {
        "colab": {
          "base_uri": "https://localhost:8080/"
        },
        "id": "5XfXlwBRSClh",
        "outputId": "63b9c666-8e65-4b81-adf8-ba6734447d67"
      },
      "execution_count": null,
      "outputs": [
        {
          "output_type": "stream",
          "name": "stdout",
          "text": [
            "[  1   2   6  24 120 720]\n"
          ]
        }
      ]
    },
    {
      "cell_type": "code",
      "source": [
        "ka=np.array([2.5E-3,5.4E-6,8.9E-9])\n",
        "kt=np.cumprod(ka)\n",
        "print(kt)"
      ],
      "metadata": {
        "colab": {
          "base_uri": "https://localhost:8080/"
        },
        "id": "KI_VpdE-SWTd",
        "outputId": "9cda0ca0-2774-4ec7-d743-b2deac368b82"
      },
      "execution_count": null,
      "outputs": [
        {
          "output_type": "stream",
          "name": "stdout",
          "text": [
            "[2.5000e-03 1.3500e-08 1.2015e-16]\n"
          ]
        }
      ]
    },
    {
      "cell_type": "code",
      "source": [
        "pKa=np.array([1.25,4.26])\n",
        "Ka=10**(-pKa)\n",
        "print(Ka)\n",
        "Kat=np.cumprod(Ka)\n",
        "print(Kat)"
      ],
      "metadata": {
        "colab": {
          "base_uri": "https://localhost:8080/"
        },
        "id": "on-DLY3tTH-d",
        "outputId": "2007705e-7e8a-4e77-ee45-76139d5d60db"
      },
      "execution_count": null,
      "outputs": [
        {
          "output_type": "stream",
          "name": "stdout",
          "text": [
            "[5.62341325e-02 5.49540874e-05]\n",
            "[5.62341325e-02 3.09029543e-06]\n"
          ]
        }
      ]
    },
    {
      "cell_type": "code",
      "source": [
        "x=np.random.rand(10)\n",
        "print(np.sum(x))"
      ],
      "metadata": {
        "colab": {
          "base_uri": "https://localhost:8080/"
        },
        "id": "7-iPLiTsTuTV",
        "outputId": "61c2ac13-d857-4062-a560-2ff32ddd7ae5"
      },
      "execution_count": null,
      "outputs": [
        {
          "output_type": "stream",
          "name": "stdout",
          "text": [
            "3.643475925470153\n"
          ]
        }
      ]
    },
    {
      "cell_type": "code",
      "source": [
        "n=np.random.randint(14,size=50)\n",
        "print(n)"
      ],
      "metadata": {
        "colab": {
          "base_uri": "https://localhost:8080/"
        },
        "id": "boW_uVXlUmik",
        "outputId": "10c51264-6da6-4137-d756-8c9d0ad9f459"
      },
      "execution_count": null,
      "outputs": [
        {
          "output_type": "stream",
          "name": "stdout",
          "text": [
            "[13  2 13 11  7 12  0  6 12 12 10  8 10 13  6  3 10  8 12 11  6  1  7  5\n",
            " 10  8  0  5 12  5 13  4  1  3  6  0  4  8  3  1  9  6  5  8  2  7 13  2\n",
            " 12  7]\n"
          ]
        }
      ]
    },
    {
      "cell_type": "code",
      "source": [
        "pH=5.0\n",
        "H=10**(-pH)\n",
        "n=np.array([2,1,0])\n",
        "a=H**n\n",
        "print(a)\n",
        "\n",
        "pKa=np.array([1.25,4.26])\n",
        "Ka=10**(-pKa)\n",
        "Ka=np.append(1,Ka)\n",
        "Kat=np.cumprod(Ka)\n",
        "print(Kat)\n",
        "v=np.sum(Kat*a)\n",
        "print(\"v=\",v)"
      ],
      "metadata": {
        "colab": {
          "base_uri": "https://localhost:8080/"
        },
        "id": "q2DWlMdMaCuQ",
        "outputId": "d8a096c2-f056-4e51-fbee-d9eaa61b96be"
      },
      "execution_count": 75,
      "outputs": [
        {
          "output_type": "stream",
          "name": "stdout",
          "text": [
            "[1.e-10 1.e-05 1.e+00]\n",
            "[1.00000000e+00 5.62341325e-02 3.09029543e-06]\n",
            "v= 3.6527367577039416e-06\n"
          ]
        }
      ]
    }
  ]
}