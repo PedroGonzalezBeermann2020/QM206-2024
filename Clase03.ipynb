{
  "nbformat": 4,
  "nbformat_minor": 0,
  "metadata": {
    "colab": {
      "provenance": [],
      "authorship_tag": "ABX9TyM8xhsT1K20a++mIiu+ZFz2",
      "include_colab_link": true
    },
    "kernelspec": {
      "name": "python3",
      "display_name": "Python 3"
    },
    "language_info": {
      "name": "python"
    }
  },
  "cells": [
    {
      "cell_type": "markdown",
      "metadata": {
        "id": "view-in-github",
        "colab_type": "text"
      },
      "source": [
        "<a href=\"https://colab.research.google.com/github/PedroGonzalezBeermann2020/QM206-2024/blob/main/Clase03.ipynb\" target=\"_parent\"><img src=\"https://colab.research.google.com/assets/colab-badge.svg\" alt=\"Open In Colab\"/></a>"
      ]
    },
    {
      "cell_type": "code",
      "execution_count": 2,
      "metadata": {
        "id": "2dBXhPp5HUNz"
      },
      "outputs": [],
      "source": [
        "import numpy as np"
      ]
    },
    {
      "cell_type": "code",
      "source": [
        "x=np.array([3,5,2,7,6,5,9])\n",
        "x"
      ],
      "metadata": {
        "colab": {
          "base_uri": "https://localhost:8080/"
        },
        "id": "ZZsgj6upI4Gk",
        "outputId": "25f6c461-b967-4437-ce5f-dc7d4b766752"
      },
      "execution_count": null,
      "outputs": [
        {
          "output_type": "execute_result",
          "data": {
            "text/plain": [
              "array([3, 5, 2, 7, 6, 5, 9])"
            ]
          },
          "metadata": {},
          "execution_count": 2
        }
      ]
    },
    {
      "cell_type": "code",
      "source": [
        "z=np.array([[1,2,3],[4,5,6],[7,8,9]])\n",
        "z[2,:]"
      ],
      "metadata": {
        "colab": {
          "base_uri": "https://localhost:8080/"
        },
        "id": "D3f3zIePJeqB",
        "outputId": "29b5d96e-29f3-461c-9e18-3a3a1913a201"
      },
      "execution_count": null,
      "outputs": [
        {
          "output_type": "execute_result",
          "data": {
            "text/plain": [
              "array([7, 8, 9])"
            ]
          },
          "metadata": {},
          "execution_count": 16
        }
      ]
    },
    {
      "cell_type": "code",
      "source": [
        "print(x)\n",
        "print(x*x)\n",
        "print(np.sum(x))\n",
        "print(np.sum(x*x))"
      ],
      "metadata": {
        "colab": {
          "base_uri": "https://localhost:8080/"
        },
        "id": "fUJryE23LbZR",
        "outputId": "2821d59b-80d4-4ef6-dd1f-84ae9e01b1fa"
      },
      "execution_count": null,
      "outputs": [
        {
          "output_type": "stream",
          "name": "stdout",
          "text": [
            "[3 5 2 7 6 5 9]\n",
            "[ 9 25  4 49 36 25 81]\n",
            "37\n",
            "229\n"
          ]
        }
      ]
    },
    {
      "cell_type": "code",
      "source": [
        "x=np.array([3.4,6.5,8.3,2.4,7.8])\n",
        "n=len(x)\n",
        "prom=np.sum(x)/n\n",
        "print(\"promedio=\",prom)\n",
        "s2=np.sum((x-prom)**2)/(n-1)\n",
        "print(\"varianza=\",s2)\n",
        "des=np.sqrt(s2)\n",
        "print(\"desviacion estandar=\",des)"
      ],
      "metadata": {
        "colab": {
          "base_uri": "https://localhost:8080/"
        },
        "id": "gOm-4FocMNaW",
        "outputId": "d9947570-1489-4cfd-fb32-79411a3e3d41"
      },
      "execution_count": null,
      "outputs": [
        {
          "output_type": "stream",
          "name": "stdout",
          "text": [
            "promedio= 5.680000000000001\n",
            "varianza= 6.997000000000002\n",
            "desviacion estandar= 2.6451843035977665\n"
          ]
        }
      ]
    },
    {
      "cell_type": "code",
      "source": [
        "x=np.array([3.4,6.5,8.3,2.4,7.8])\n",
        "y=np.array([4.6,3.2,7.8,9.2,3.5])\n",
        "sumxy=np.sum(x*y)\n",
        "sumxy2=np.sum(x*y*y)\n",
        "print(\"sumXY=\",sumxy)\n",
        "print(\"sumXY2=\",sumxy2)"
      ],
      "metadata": {
        "colab": {
          "base_uri": "https://localhost:8080/"
        },
        "id": "Uoytbdi8OJJl",
        "outputId": "375e752a-5c54-41b7-b252-d947098adfd8"
      },
      "execution_count": null,
      "outputs": [
        {
          "output_type": "stream",
          "name": "stdout",
          "text": [
            "sumXY= 150.56\n",
            "sumXY2= 942.1619999999999\n"
          ]
        }
      ]
    },
    {
      "cell_type": "code",
      "source": [
        "m=np.sum(x*x)/np.sum(x*y)\n",
        "print(\"m=\",m)"
      ],
      "metadata": {
        "id": "8rzBtBSuQBjP",
        "outputId": "0aa872ae-210d-44a5-e088-a4f0164fbd50",
        "colab": {
          "base_uri": "https://localhost:8080/"
        }
      },
      "execution_count": null,
      "outputs": [
        {
          "output_type": "stream",
          "name": "stdout",
          "text": [
            "m= 1.25730605738576\n"
          ]
        }
      ]
    },
    {
      "cell_type": "code",
      "source": [
        "x=np.array([1,2,3,4,5,6])\n",
        "print(np.cumsum(x))"
      ],
      "metadata": {
        "colab": {
          "base_uri": "https://localhost:8080/"
        },
        "id": "YXJwxBoRRZag",
        "outputId": "68ad7c02-44c6-481f-f104-8955c1ec69fa"
      },
      "execution_count": null,
      "outputs": [
        {
          "output_type": "stream",
          "name": "stdout",
          "text": [
            "[ 1  3  6 10 15 21]\n"
          ]
        }
      ]
    },
    {
      "cell_type": "code",
      "source": [
        "print(np.cumprod(x))"
      ],
      "metadata": {
        "colab": {
          "base_uri": "https://localhost:8080/"
        },
        "id": "5XfXlwBRSClh",
        "outputId": "63b9c666-8e65-4b81-adf8-ba6734447d67"
      },
      "execution_count": null,
      "outputs": [
        {
          "output_type": "stream",
          "name": "stdout",
          "text": [
            "[  1   2   6  24 120 720]\n"
          ]
        }
      ]
    },
    {
      "cell_type": "code",
      "source": [
        "ka=np.array([2.5E-3,5.4E-6,8.9E-9])\n",
        "kt=np.cumprod(ka)\n",
        "print(kt)"
      ],
      "metadata": {
        "colab": {
          "base_uri": "https://localhost:8080/"
        },
        "id": "KI_VpdE-SWTd",
        "outputId": "9cda0ca0-2774-4ec7-d743-b2deac368b82"
      },
      "execution_count": null,
      "outputs": [
        {
          "output_type": "stream",
          "name": "stdout",
          "text": [
            "[2.5000e-03 1.3500e-08 1.2015e-16]\n"
          ]
        }
      ]
    },
    {
      "cell_type": "code",
      "source": [
        "pKa=np.array([1.25,4.26])\n",
        "Ka=10**(-pKa)\n",
        "print(Ka)\n",
        "Kat=np.cumprod(Ka)\n",
        "print(Kat)"
      ],
      "metadata": {
        "colab": {
          "base_uri": "https://localhost:8080/"
        },
        "id": "on-DLY3tTH-d",
        "outputId": "2007705e-7e8a-4e77-ee45-76139d5d60db"
      },
      "execution_count": null,
      "outputs": [
        {
          "output_type": "stream",
          "name": "stdout",
          "text": [
            "[5.62341325e-02 5.49540874e-05]\n",
            "[5.62341325e-02 3.09029543e-06]\n"
          ]
        }
      ]
    },
    {
      "cell_type": "code",
      "source": [
        "x=np.random.rand(10)\n",
        "print(np.sum(x))"
      ],
      "metadata": {
        "colab": {
          "base_uri": "https://localhost:8080/"
        },
        "id": "7-iPLiTsTuTV",
        "outputId": "61c2ac13-d857-4062-a560-2ff32ddd7ae5"
      },
      "execution_count": null,
      "outputs": [
        {
          "output_type": "stream",
          "name": "stdout",
          "text": [
            "3.643475925470153\n"
          ]
        }
      ]
    },
    {
      "cell_type": "code",
      "source": [
        "n=np.random.randint(14,size=50)\n",
        "print(n)"
      ],
      "metadata": {
        "colab": {
          "base_uri": "https://localhost:8080/"
        },
        "id": "boW_uVXlUmik",
        "outputId": "10c51264-6da6-4137-d756-8c9d0ad9f459"
      },
      "execution_count": null,
      "outputs": [
        {
          "output_type": "stream",
          "name": "stdout",
          "text": [
            "[13  2 13 11  7 12  0  6 12 12 10  8 10 13  6  3 10  8 12 11  6  1  7  5\n",
            " 10  8  0  5 12  5 13  4  1  3  6  0  4  8  3  1  9  6  5  8  2  7 13  2\n",
            " 12  7]\n"
          ]
        }
      ]
    },
    {
      "cell_type": "code",
      "source": [
        "pH=8.5\n",
        "H=10**(-pH)\n",
        "n=np.array([2,1,0])\n",
        "a=H**n\n",
        "print(a)\n",
        "\n",
        "pKa=np.array([3.25,7.26])\n",
        "Ka=10**(-pKa)\n",
        "Ka=np.append(1,Ka)\n",
        "Kat=np.cumprod(Ka)\n",
        "print(Kat)\n",
        "sumTotal=np.sum(Kat*a)\n",
        "print(\"sumTotal=\",sumTotal)\n",
        "frac=(Kat*a)/sumTotal\n",
        "print(frac)"
      ],
      "metadata": {
        "id": "q2DWlMdMaCuQ",
        "outputId": "2552f2c7-80dc-4e89-c9eb-98f9eb1b5ad6",
        "colab": {
          "base_uri": "https://localhost:8080/"
        }
      },
      "execution_count": 10,
      "outputs": [
        {
          "output_type": "stream",
          "name": "stdout",
          "text": [
            "[1.00000000e-17 3.16227766e-09 1.00000000e+00]\n",
            "[1.00000000e+00 5.62341325e-04 3.09029543e-11]\n",
            "sumTotal= 3.268124373517484e-11\n",
            "[3.05985907e-07 5.44128438e-02 9.45586850e-01]\n"
          ]
        }
      ]
    },
    {
      "cell_type": "code",
      "source": [
        "pHs=np.arange(1,14,0.5)\n",
        "for pH in pHs:\n",
        "  H=10**(-pH)\n",
        "  n=np.array([3,2,1,0])\n",
        "  a=H**n\n",
        "  pKa=np.array([2.15,7.2,12.15])\n",
        "  Ka=10**(-pKa)\n",
        "  Ka=np.append(1,Ka)\n",
        "  Kat=np.cumprod(Ka)\n",
        "  sumTotal=np.sum(Kat*a)\n",
        "  frac=(Kat*a)/sumTotal\n",
        "  print(pH,frac)"
      ],
      "metadata": {
        "colab": {
          "base_uri": "https://localhost:8080/"
        },
        "id": "Qo41HjL0R2rm",
        "outputId": "e46132f9-a9d6-432b-9959-110c910cfa09"
      },
      "execution_count": 29,
      "outputs": [
        {
          "output_type": "stream",
          "name": "stdout",
          "text": [
            "1.0 [9.33885900e-01 6.61140586e-02 4.17151508e-08 2.95320652e-19]\n",
            "1.5 [8.17078536e-01 1.82921099e-01 3.64975576e-07 8.17078536e-18]\n",
            "2.0 [5.85497147e-01 4.14500237e-01 2.61531969e-06 1.85150455e-16]\n",
            "2.5 [3.08759589e-01 6.91226619e-01 1.37917842e-05 3.08759589e-15]\n",
            "3.0 [1.23763839e-01 8.76180878e-01 5.52832760e-05 3.91375622e-14]\n",
            "3.5 [4.27502461e-02 9.57058796e-01 1.90958335e-04 4.27502461e-13]\n",
            "4.0 [1.39199678e-02 9.85458250e-01 6.21782121e-04 4.40188031e-12]\n",
            "4.5 [4.43815612e-03 9.93579392e-01 1.98245152e-03 4.43815612e-11]\n",
            "5.0 [1.40171336e-03 9.92337063e-01 6.26122358e-03 4.43260684e-10]\n",
            "5.5 [4.37753718e-04 9.80008502e-01 1.95537403e-02 4.37753718e-09]\n",
            "6.0 [1.32852553e-04 9.40524050e-01 5.93430557e-02 4.20116661e-08]\n",
            "6.5 [3.72369341e-05 8.33631116e-01 1.66331275e-01 3.72369341e-07]\n",
            "7.0 [8.66068906e-06 6.13129831e-01 3.86858770e-01 2.73875035e-06]\n",
            "7.5 [1.49127595e-06 3.33855099e-01 6.66128497e-01 1.49127595e-05]\n",
            "8.0 [1.93233021e-07 1.36798502e-01 8.63140199e-01 6.11056465e-05]\n",
            "8.5 [2.13141988e-08 4.77165474e-02 9.52070289e-01 2.13141988e-04]\n",
            "9.0 [2.20225861e-09 1.55907970e-02 9.83712786e-01 6.96415320e-04]\n",
            "9.5 [2.22260593e-10 4.97579487e-03 9.92801599e-01 2.22260593e-03]\n",
            "10.0 [2.21949069e-11 1.57127908e-03 9.91410075e-01 7.01864583e-03]\n",
            "10.5 [2.18862697e-12 4.89972547e-04 9.77623758e-01 2.18862697e-02]\n",
            "11.0 [2.09040079e-13 1.47989043e-04 9.33747734e-01 6.61042772e-02]\n",
            "11.5 [1.82913675e-14 4.09492711e-05 8.17045375e-01 1.82913675e-01]\n",
            "12.0 [1.31075611e-15 9.27944259e-06 5.85493246e-01 4.14497475e-01]\n",
            "12.5 [6.91235083e-17 1.54748259e-06 3.08763370e-01 6.91235083e-01]\n",
            "13.0 [2.77087986e-18 1.96163271e-07 1.23770657e-01 8.76229147e-01]\n",
            "13.5 [9.57241568e-20 2.14299693e-08 4.27584102e-02 9.57241568e-01]\n"
          ]
        }
      ]
    },
    {
      "cell_type": "code",
      "source": [
        "pHs"
      ],
      "metadata": {
        "colab": {
          "base_uri": "https://localhost:8080/"
        },
        "id": "UhvUtfirYwdZ",
        "outputId": "36f718a1-46aa-4c48-dd65-dad64d35542e"
      },
      "execution_count": 14,
      "outputs": [
        {
          "output_type": "execute_result",
          "data": {
            "text/plain": [
              "array([ 1. ,  1.5,  2. ,  2.5,  3. ,  3.5,  4. ,  4.5,  5. ,  5.5,  6. ,\n",
              "        6.5,  7. ,  7.5,  8. ,  8.5,  9. ,  9.5, 10. , 10.5, 11. , 11.5,\n",
              "       12. , 12.5, 13. , 13.5])"
            ]
          },
          "metadata": {},
          "execution_count": 14
        }
      ]
    },
    {
      "cell_type": "markdown",
      "source": [
        "FUNCIONES"
      ],
      "metadata": {
        "id": "_1PZzJsUZK8_"
      }
    },
    {
      "cell_type": "code",
      "source": [
        "def func1(x,z):\n",
        "  y=x**2+5*z\n",
        "  return y\n"
      ],
      "metadata": {
        "id": "bTMkWKG5ZN-Q"
      },
      "execution_count": 21,
      "outputs": []
    },
    {
      "cell_type": "code",
      "source": [
        "a=func1(8,2)\n",
        "print(a)"
      ],
      "metadata": {
        "colab": {
          "base_uri": "https://localhost:8080/"
        },
        "id": "gw43lKFPZ_FH",
        "outputId": "b917fb74-c132-4df0-9044-1f7f8aa73dc3"
      },
      "execution_count": 23,
      "outputs": [
        {
          "output_type": "stream",
          "name": "stdout",
          "text": [
            "74\n"
          ]
        }
      ]
    },
    {
      "cell_type": "code",
      "source": [
        "def fracCalc(pKa,pH):\n",
        "  na=len(pKa)\n",
        "  Ka=10**(-pKa)\n",
        "  Ka=np.append(1,Ka)\n",
        "  Kat=np.cumprod(Ka)\n",
        "  n=np.arange(na,-1,-1)\n",
        "  H=10**(-pH)\n",
        "  a=H**n\n",
        "  sumTotal=np.sum(Kat*a)\n",
        "  frac=(Kat*a)/sumTotal\n",
        "  return frac"
      ],
      "metadata": {
        "id": "eC9fO-j7as1Y"
      },
      "execution_count": 35,
      "outputs": []
    },
    {
      "cell_type": "code",
      "source": [
        "pKas=np.array([4.72,8.0,12.0])\n",
        "pHs=np.arange(1,14,0.5)\n",
        "for pH in pHs:\n",
        "    print(fracCalc(pKas,pH))"
      ],
      "metadata": {
        "colab": {
          "base_uri": "https://localhost:8080/"
        },
        "id": "0jBfLifmbJmQ",
        "outputId": "89514a39-7592-41a7-c0f4-e037dbb1846f"
      },
      "execution_count": 41,
      "outputs": [
        {
          "output_type": "stream",
          "name": "stdout",
          "text": [
            "[9.99809490e-01 1.90509771e-04 1.90509771e-11 1.90509771e-22]\n",
            "[9.99397803e-01 6.02196727e-04 1.90431326e-10 6.02196727e-21]\n",
            "[9.98098161e-01 1.90183684e-03 1.90183684e-09 1.90183684e-19]\n",
            "[9.94010476e-01 5.98950541e-03 1.89404791e-08 5.98950541e-18]\n",
            "[9.81301498e-01 1.86983146e-02 1.86983146e-07 1.86983146e-16]\n",
            "[9.43166784e-01 5.68314187e-02 1.79716726e-06 5.68314187e-15]\n",
            "[8.39937251e-01 1.60046744e-01 1.60046744e-05 1.60046744e-13]\n",
            "[6.23927573e-01 3.75953540e-01 1.18886948e-04 3.75953540e-12]\n",
            "[3.43953922e-01 6.55390687e-01 6.55390687e-04 6.55390687e-11]\n",
            "[1.41951684e-01 8.55343481e-01 2.70483358e-03 8.55343481e-10]\n",
            "[4.93945380e-02 9.41193517e-01 9.41193517e-03 9.41193517e-09]\n",
            "[1.58324483e-02 9.53999348e-01 3.01681083e-02 9.53999348e-08]\n",
            "[4.74831848e-03 9.04773433e-01 9.04773433e-02 9.04773433e-07]\n",
            "[1.25926872e-03 7.58784436e-01 2.39948707e-01 7.58784436e-06]\n",
            "[2.62321780e-04 4.99843847e-01 4.99843847e-01 4.99843847e-05]\n",
            "[3.98609195e-05 2.40185791e-01 7.59534162e-01 2.40185791e-04]\n",
            "[4.76662088e-06 9.08260884e-02 9.08260884e-01 9.08260884e-04]\n",
            "[5.07165418e-07 3.05597384e-02 9.66383781e-01 3.05597384e-03]\n",
            "[5.14517091e-08 9.80392106e-03 9.80392106e-01 9.80392106e-03]\n",
            "[5.07165672e-09 3.05597537e-03 9.66384266e-01 3.05597537e-02]\n",
            "[4.76664360e-10 9.08265213e-04 9.08265213e-01 9.08265213e-02]\n",
            "[3.98625084e-11 2.40195366e-04 7.59564439e-01 2.40195366e-01]\n",
            "[2.62390611e-12 4.99975001e-05 4.99975001e-01 4.99975001e-01]\n",
            "[1.26085647e-13 7.59741155e-06 2.40251248e-01 7.59741155e-01]\n",
            "[4.77097257e-15 9.09090083e-07 9.09090083e-02 9.09090083e-01]\n",
            "[1.60871472e-16 9.69346476e-08 3.06534271e-02 9.69346476e-01]\n"
          ]
        }
      ]
    },
    {
      "cell_type": "code",
      "source": [
        "na=3\n",
        "np.arange(na,-1,-1)"
      ],
      "metadata": {
        "colab": {
          "base_uri": "https://localhost:8080/"
        },
        "id": "EnCwBFjDcCSx",
        "outputId": "2be2b706-8a2d-43a2-b642-36b48feb5c06"
      },
      "execution_count": 31,
      "outputs": [
        {
          "output_type": "execute_result",
          "data": {
            "text/plain": [
              "array([3, 2, 1, 0])"
            ]
          },
          "metadata": {},
          "execution_count": 31
        }
      ]
    }
  ]
}